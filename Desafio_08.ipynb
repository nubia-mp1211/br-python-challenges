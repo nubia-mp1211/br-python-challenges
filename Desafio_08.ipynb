{
 "cells": [
  {
   "cell_type": "markdown",
   "metadata": {
    "colab_type": "text",
    "id": "view-in-github"
   },
   "source": [
    "![](https://i.imgur.com/YX6UATs.png)"
   ]
  },
  {
   "cell_type": "code",
   "execution_count": null,
   "metadata": {
    "colab_type": "text",
    "id": "o3tkeMDNf6Jo"
   },
   "outputs": [],
   "source": [
    "### Desafio 8\n",
    "\n",
    "Escreva um script Python para encontrar as 10 palavras mais longas em um arquivo de texto.\n",
    "O arquivo .txt está localizado na mesma pasta do projeto (**texto.txt**)."
   ]
  },
  {
   "cell_type": "code",
   "execution_count": 9,
   "metadata": {},
   "outputs": [],
   "source": [
    "# Seu código\n",
    "import string\n",
    "pontuacao = string.punctuation"
   ]
  },
  {
   "cell_type": "code",
   "execution_count": 10,
   "metadata": {},
   "outputs": [],
   "source": [
    "#Fazendo leitura do arquivo: texto.txt\n",
    "with open(\"texto.txt\", \"r\") as f:\n",
    "    texto = f.read()"
   ]
  },
  {
   "cell_type": "code",
   "execution_count": 11,
   "metadata": {},
   "outputs": [],
   "source": [
    "# Pesquisa no texto a pontuacao e substitui \"/n\" por espaco\n",
    "\n",
    "texto_sem_pontuacao = [letra if letra not in pontuacao else \" \" for letra in texto]"
   ]
  },
  {
   "cell_type": "code",
   "execution_count": 12,
   "metadata": {},
   "outputs": [],
   "source": [
    "texto_sem_pontuacao = \"\".join(texto_sem_pontuacao)"
   ]
  },
  {
   "cell_type": "code",
   "execution_count": 13,
   "metadata": {},
   "outputs": [],
   "source": [
    "#Precisa juntar a lista\n",
    "texto_sem_pontuacao = \"\".join(texto_sem_pontuacao)"
   ]
  },
  {
   "cell_type": "code",
   "execution_count": 14,
   "metadata": {},
   "outputs": [],
   "source": [
    "#Deixando as palavras sem repetir\n",
    "palavras_unicas = list(set(texto_sem_pontuacao.split(\" \")))"
   ]
  },
  {
   "cell_type": "code",
   "execution_count": 15,
   "metadata": {},
   "outputs": [
    {
     "data": {
      "text/plain": [
       "['management',\n",
       " 'imperative',\n",
       " 'functional',\n",
       " 'procedural',\n",
       " 'interpreted',\n",
       " 'programmers',\n",
       " 'programming',\n",
       " 'readability',\n",
       " 'intermediate',\n",
       " 'comprehensive']"
      ]
     },
     "execution_count": 15,
     "metadata": {},
     "output_type": "execute_result"
    }
   ],
   "source": [
    "sorted(palavras_unicas, key=len)[-10:]"
   ]
  },
  {
   "cell_type": "code",
   "execution_count": null,
   "metadata": {},
   "outputs": [],
   "source": []
  }
 ],
 "metadata": {
  "anaconda-cloud": {},
  "colab": {
   "include_colab_link": true,
   "name": "Desafio 8.ipynb",
   "provenance": []
  },
  "kernelspec": {
   "display_name": "Python 3",
   "language": "python",
   "name": "python3"
  },
  "language_info": {
   "codemirror_mode": {
    "name": "ipython",
    "version": 3
   },
   "file_extension": ".py",
   "mimetype": "text/x-python",
   "name": "python",
   "nbconvert_exporter": "python",
   "pygments_lexer": "ipython3",
   "version": "3.8.5"
  }
 },
 "nbformat": 4,
 "nbformat_minor": 4
}
