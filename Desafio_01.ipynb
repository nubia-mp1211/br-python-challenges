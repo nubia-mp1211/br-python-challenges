{
 "cells": [
  {
   "cell_type": "markdown",
   "metadata": {
    "colab_type": "text",
    "id": "view-in-github"
   },
   "source": [
    "![](https://i.imgur.com/YX6UATs.png)"
   ]
  },
  {
   "cell_type": "markdown",
   "metadata": {
    "colab_type": "text",
    "id": "SbLLE9q1eldC"
   },
   "source": [
    "### Desafio 1\n",
    "\n",
    "Escreva um programa em Python para contabilizar a quantidade de ocorrências de cada palavra."
   ]
  },
  {
   "cell_type": "code",
   "execution_count": 21,
   "metadata": {
    "colab": {},
    "colab_type": "code",
    "id": "WhtbdwFseldD"
   },
   "outputs": [],
   "source": [
    "palavras = [\n",
    "   'red', 'green', 'black', 'pink', 'black', 'white', 'black', 'eyes',\n",
    "   'white', 'black', 'orange', 'pink', 'pink', 'red', 'red', 'white', 'orange',\n",
    "   'white', \"black\", 'pink', 'green', 'green', 'pink', 'green', 'pink',\n",
    "   'white', 'orange', \"orange\", 'red'\n",
    "]\n",
    "\n",
    "\n",
    "# Seu codigo"
   ]
  },
  {
   "cell_type": "code",
   "execution_count": 24,
   "metadata": {},
   "outputs": [
    {
     "data": {
      "text/plain": [
       "['red',\n",
       " 'green',\n",
       " 'black',\n",
       " 'pink',\n",
       " 'black',\n",
       " 'white',\n",
       " 'black',\n",
       " 'eyes',\n",
       " 'white',\n",
       " 'black',\n",
       " 'orange',\n",
       " 'pink',\n",
       " 'pink',\n",
       " 'red',\n",
       " 'red',\n",
       " 'white',\n",
       " 'orange',\n",
       " 'white',\n",
       " 'black',\n",
       " 'pink',\n",
       " 'green',\n",
       " 'green',\n",
       " 'pink',\n",
       " 'green',\n",
       " 'pink',\n",
       " 'white',\n",
       " 'orange',\n",
       " 'orange',\n",
       " 'red']"
      ]
     },
     "execution_count": 24,
     "metadata": {},
     "output_type": "execute_result"
    }
   ],
   "source": [
    "palavras\n"
   ]
  },
  {
   "cell_type": "code",
   "execution_count": 25,
   "metadata": {},
   "outputs": [
    {
     "name": "stdout",
     "output_type": "stream",
     "text": [
      "eyes: aparece 1 vezes\n",
      "green: aparece 4 vezes\n",
      "pink: aparece 6 vezes\n",
      "black: aparece 5 vezes\n",
      "white: aparece 5 vezes\n",
      "red: aparece 4 vezes\n",
      "orange: aparece 4 vezes\n"
     ]
    }
   ],
   "source": [
    "palavra_unica = set(palavras)\n",
    "for cada_palavra in palavra_unica:\n",
    "    print(f\"{cada_palavra}: aparece {palavras.count(cada_palavra)} vezes\")"
   ]
  },
  {
   "cell_type": "code",
   "execution_count": null,
   "metadata": {},
   "outputs": [],
   "source": []
  }
 ],
 "metadata": {
  "anaconda-cloud": {},
  "colab": {
   "include_colab_link": true,
   "name": "Desafio 1.ipynb",
   "provenance": []
  },
  "kernelspec": {
   "display_name": "Python 3",
   "language": "python",
   "name": "python3"
  },
  "language_info": {
   "codemirror_mode": {
    "name": "ipython",
    "version": 3
   },
   "file_extension": ".py",
   "mimetype": "text/x-python",
   "name": "python",
   "nbconvert_exporter": "python",
   "pygments_lexer": "ipython3",
   "version": "3.8.5"
  }
 },
 "nbformat": 4,
 "nbformat_minor": 4
}
