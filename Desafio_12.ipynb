{
 "cells": [
  {
   "cell_type": "markdown",
   "metadata": {
    "colab_type": "text",
    "id": "view-in-github"
   },
   "source": [
    "![](https://i.imgur.com/YX6UATs.png)"
   ]
  },
  {
   "cell_type": "markdown",
   "metadata": {
    "colab_type": "text",
    "id": "AYHY2YXQf6J2"
   },
   "source": [
    "### Desafio 12\n",
    "\n",
    "Escreva uma função em Python para verificar a validade de uma senha.\n",
    "\n",
    "A senha deve ter:\n",
    "\n",
    "* Pelo menos 1 letra entre [a-z] e 1 letra entre [A-Z].\n",
    "* Pelo menos 1 número entre [0-9].\n",
    "* Pelo menos 1 caractere de [$ # @].\n",
    "* Comprimento mínimo de 6 caracteres.\n",
    "* Comprimento máximo de 16 caracteres.\n",
    "\n",
    "Entradas: \"12345678\", \"J3sus0\", \"#Te5t300\", \"J*90j12374\", \"Michheeul\", \"Monk3y6\"\n",
    "\n",
    "A saída deve ser a senha e um texto indicando se a senha é válida ou inválida:\n",
    "\n",
    "```\n",
    "\"1234\" - Senha inválida\n",
    "\"Qw#1234\" - Senha válida\n",
    "```"
   ]
  },
  {
   "cell_type": "code",
   "execution_count": 7,
   "metadata": {
    "colab": {},
    "colab_type": "code",
    "id": "UGgtGYGGf6J3"
   },
   "outputs": [],
   "source": [
    "# Seu código\n",
    "# Preciso verificar os caracteres [a-z][A-Z]$#@ minimo=6 e maximo=16\n",
    "\n",
    "import string"
   ]
  },
  {
   "cell_type": "code",
   "execution_count": 11,
   "metadata": {},
   "outputs": [],
   "source": [
    "def verifica_senha(senha):\n",
    "    minusculas = string.ascii_lowercase\n",
    "    maiusculas = string.ascii_uppercase\n",
    "    numeros = string.digits\n",
    "    especiais = '$#@'\n",
    "# Contem as regras necessarias para formar a senha correta:\n",
    "    regras_caracteres = [minusculas, maiusculas, numeros, especiais]\n",
    "\n",
    "#Tamanho Min. e Max\n",
    "    min_tamanho = 6\n",
    "    max_tamanho = 16\n",
    "    \n",
    "    errors = []\n",
    "# Verifica se os caracteres digitdos estao dentro das regras:\n",
    "    for regra in regras_caracteres:\n",
    "        check = [caracter for caracter in senha if caracter in regra]\n",
    "        if len(check)==0:\n",
    "            errors.append(f\"Erro na regra: {regra}\")\n",
    "\n",
    "# verifica o tamanho da senha:\n",
    "    if len(senha)<min_tamanho:\n",
    "        errors.append(\"Senha muito pequena\")\n",
    "    if len(senha)>max_tamanho: \n",
    "        errors.append(\"Senha muito grande\")\n",
    "    if len(errors)>0:\n",
    "        print(errors)\n",
    "        return \"Senha invalida\"\n",
    "    else:\n",
    "        return \"Senha valida\""
   ]
  },
  {
   "cell_type": "code",
   "execution_count": 9,
   "metadata": {},
   "outputs": [
    {
     "name": "stdout",
     "output_type": "stream",
     "text": [
      "['Erro na regra: ABCDEFGHIJKLMNOPQRSTUVWXYZ', 'Erro na regra: 0123456789', 'Erro na regra: $#@', 'Senha muito pequena']\n"
     ]
    },
    {
     "data": {
      "text/plain": [
       "'Senha invalida'"
      ]
     },
     "execution_count": 9,
     "metadata": {},
     "output_type": "execute_result"
    }
   ],
   "source": [
    "verifica_senha(\"um\")"
   ]
  },
  {
   "cell_type": "code",
   "execution_count": 13,
   "metadata": {},
   "outputs": [
    {
     "data": {
      "text/plain": [
       "'Senha valida'"
      ]
     },
     "execution_count": 13,
     "metadata": {},
     "output_type": "execute_result"
    }
   ],
   "source": [
    "verifica_senha(\"$Pode2021\")"
   ]
  },
  {
   "cell_type": "code",
   "execution_count": null,
   "metadata": {},
   "outputs": [],
   "source": []
  }
 ],
 "metadata": {
  "anaconda-cloud": {},
  "colab": {
   "include_colab_link": true,
   "name": "Desafio 12.ipynb",
   "provenance": []
  },
  "kernelspec": {
   "display_name": "Python 3",
   "language": "python",
   "name": "python3"
  },
  "language_info": {
   "codemirror_mode": {
    "name": "ipython",
    "version": 3
   },
   "file_extension": ".py",
   "mimetype": "text/x-python",
   "name": "python",
   "nbconvert_exporter": "python",
   "pygments_lexer": "ipython3",
   "version": "3.8.5"
  }
 },
 "nbformat": 4,
 "nbformat_minor": 4
}
